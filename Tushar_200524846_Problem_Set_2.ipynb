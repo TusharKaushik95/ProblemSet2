{
 "cells": [
  {
   "cell_type": "markdown",
   "id": "993eb151",
   "metadata": {},
   "source": [
    "Question 1\n",
    "\n",
    "What value is displayed when the last expression (a) is evaluated? Explain your answer by indicating what happens in every executed statement.\n"
   ]
  },
  {
   "cell_type": "code",
   "execution_count": 1,
   "id": "f6f11379",
   "metadata": {},
   "outputs": [],
   "source": [
    "a = 0\n",
    "def b():\n",
    "    global a\n",
    "    a = c(a)\n",
    "def c(a):\n",
    "    return a + 2"
   ]
  },
  {
   "cell_type": "code",
   "execution_count": 2,
   "id": "bec8fd41",
   "metadata": {},
   "outputs": [
    {
     "data": {
      "text/plain": [
       "6"
      ]
     },
     "execution_count": 2,
     "metadata": {},
     "output_type": "execute_result"
    }
   ],
   "source": [
    "b()                                #a=2\n",
    "b()                                #a=4\n",
    "b()                                #a=6\n",
    "a"
   ]
  },
  {
   "cell_type": "markdown",
   "id": "a3584255",
   "metadata": {},
   "source": [
    "As\"a\" has been initialized as 0 ,it is also used in b and c. b() uses c() which add 2 to a's values. This way everytime b is called, c is called and 2 is added to a's value. Since, 'a' is global variable, a's value gets changed globally everytime b is called."
   ]
  },
  {
   "cell_type": "markdown",
   "id": "064b6f6a",
   "metadata": {},
   "source": [
    "Question 2\n",
    "\n",
    "Function fileLength(), given to you, takes the name of a file as input and returns the length of the file:\n",
    "\n",
    "            fileLength('midterm.py') 284 fileLength('idterm.py') Traceback (most recent call last): File \"<pyshell#34>\", line 1, in fileLength('idterm.py') File \"/Users/me/midterm.py\", line 3, in fileLength infile = open(filename) FileNotFoundError: [Errno 2] No such file or directory: 'idterm.py'\n",
    "\n",
    "As shown above, if the file cannot be found by the interpreter or if it cannot be read as a text file, an exception will be raised. Modify function fileLength() so that a friendly message is printed instead:\n"
   ]
  },
  {
   "cell_type": "code",
   "execution_count": 3,
   "id": "57e92271",
   "metadata": {},
   "outputs": [],
   "source": [
    "def file_length(f):                                          #creating function file_length()\n",
    "    try:                                                    #errors checking while opening the file\n",
    "        file = open(f, \"r\")                                     \n",
    "        contents=file.read()                                               \n",
    "        print('Given file length is : '+ str(len(contents)))         \n",
    "        file.close()                                                   \n",
    "    except:                                                           \n",
    "        print('File '+f+' not found.')                        #printing message to show file not found"
   ]
  },
  {
   "cell_type": "code",
   "execution_count": 4,
   "id": "f77fa40e",
   "metadata": {},
   "outputs": [
    {
     "name": "stdout",
     "output_type": "stream",
     "text": [
      "Given file length is : 53\n"
     ]
    }
   ],
   "source": [
    "file_length(\"PB2.py\")"
   ]
  },
  {
   "cell_type": "code",
   "execution_count": 5,
   "id": "42cd8c0c",
   "metadata": {},
   "outputs": [
    {
     "name": "stdout",
     "output_type": "stream",
     "text": [
      "File PB1.py not found.\n"
     ]
    }
   ],
   "source": [
    "file_length('PB1.py')"
   ]
  },
  {
   "cell_type": "markdown",
   "id": "50155771",
   "metadata": {},
   "source": [
    "Question 3\n",
    "\n",
    "Write a class named Marsupial that can be used as shown below:\n",
    "\n",
    "            m = Marsupial() m.put_in_pouch('doll') m.put_in_pouch('firetruck') m.put_in_pouch('kitten') m.pouch_contents() ['doll', 'firetruck', 'kitten']\n",
    "\n",
    "Now write a class named Kangaroo as a subclass of Marsupial that inherits all the attributes of Marsupial and also: a. extends the Marsupial init constructor to take, as input, the coordinates x and y of the Kangaroo object, b. supports method jump that takes number values dx and dy as input and moves the kangaroo by dx units along the x-axis and by dy units along the y\u0002axis, and c. overloads the str operator so it behaves as shown below.\n",
    "\n",
    "            k = Kangaroo(0,0) print(k) I am a Kangaroo located at coordinates (0,0) k.put_in_pouch('doll') k.put_in_pouch('firetruck') k.put_in_pouch('kitten') k.pouch_contents() 'doll', 'firetruck', 'kitten' k.jump(1,0) k.jump(1,0) k.jump(1,0) print(k) I am a Kangaroo located at coordinates (3,0)\n",
    "\n"
   ]
  },
  {
   "cell_type": "code",
   "execution_count": 6,
   "id": "c21854fd",
   "metadata": {},
   "outputs": [],
   "source": [
    "class Marsupial(object):                     #class file Marsupial\n",
    "  \n",
    "    def __init__(self):                               \n",
    "        self.mylist = []                     #creating mylist\n",
    "    def put_in_pouch(self, item):            #creating put_in_pounch() function \n",
    "        self.mylist.append(item)\n",
    "    def pouch_contents(self):                #creating pouch_contents() function\n",
    "        return self.mylist \n",
    " "
   ]
  },
  {
   "cell_type": "code",
   "execution_count": 7,
   "id": "707323d9",
   "metadata": {},
   "outputs": [
    {
     "data": {
      "text/plain": [
       "['doll', 'firetruck', 'kitten']"
      ]
     },
     "execution_count": 7,
     "metadata": {},
     "output_type": "execute_result"
    }
   ],
   "source": [
    "m = Marsupial()\n",
    "m.put_in_pouch('doll')\n",
    "m.put_in_pouch('firetruck')\n",
    "m.put_in_pouch('kitten')\n",
    "m.pouch_contents()"
   ]
  },
  {
   "cell_type": "code",
   "execution_count": 8,
   "id": "0f945b6a",
   "metadata": {},
   "outputs": [],
   "source": [
    "class Kangaroo(Marsupial):                      \n",
    "    \n",
    "    def __init__(self,x,y):                                     \n",
    "        Marsupial.__init__(self)                 #extending init function\n",
    "        self.x = x                                \n",
    "        self.y = y\n",
    "                                  \n",
    "    def jump(self,dx,dy):                        #creating jump function \n",
    "        self.x = self.x + dx\n",
    "        self.y = self.y + dy\n",
    "        \n",
    "    def __str__(self):                           \n",
    "        return 'I am a Kangaroo located at coordinates ({},{})'.format(self.x,self.y)"
   ]
  },
  {
   "cell_type": "code",
   "execution_count": 9,
   "id": "29d2774e",
   "metadata": {},
   "outputs": [
    {
     "name": "stdout",
     "output_type": "stream",
     "text": [
      "I am a Kangaroo located at coordinates (0,0)\n"
     ]
    }
   ],
   "source": [
    "k = Kangaroo(0,0)\n",
    "print(k)"
   ]
  },
  {
   "cell_type": "code",
   "execution_count": 10,
   "id": "bbe94996",
   "metadata": {},
   "outputs": [
    {
     "data": {
      "text/plain": [
       "['doll', 'firetruck', 'kitten']"
      ]
     },
     "execution_count": 10,
     "metadata": {},
     "output_type": "execute_result"
    }
   ],
   "source": [
    "k.put_in_pouch('doll')\n",
    "k.put_in_pouch('firetruck')\n",
    "k.put_in_pouch('kitten')\n",
    "k.pouch_contents()"
   ]
  },
  {
   "cell_type": "code",
   "execution_count": 11,
   "id": "fb208bda",
   "metadata": {},
   "outputs": [
    {
     "name": "stdout",
     "output_type": "stream",
     "text": [
      "I am a Kangaroo located at coordinates (3,0)\n"
     ]
    }
   ],
   "source": [
    "k.jump(1,0)\n",
    "k.jump(1,0)\n",
    "k.jump(1,0)\n",
    "print(k)"
   ]
  },
  {
   "cell_type": "markdown",
   "id": "b5d3eacb",
   "metadata": {},
   "source": [
    "Question 4\n",
    "\n",
    "Write function collatz() that takes a positive integer x as input and prints the Collatz sequence starting at x. A Collatz sequence is obtained by repeatedly applying this rule to the previous number x in the sequence: x = { 𝑥/2 𝑖𝑓 𝑥 𝑖𝑠 𝑒𝑣𝑒𝑛 3𝑥 + 1 𝑖𝑓 𝑥 𝑖𝑠 𝑜𝑑𝑑 Your function should stop when the sequence gets to number 1. Your implementation must be recursive, without any loops.\n",
    "\n",
    "        collatz(1) 1\n",
    "\n",
    "            collatz(10) 10 5 16 8 4 2 1\n",
    "\n"
   ]
  },
  {
   "cell_type": "code",
   "execution_count": 12,
   "id": "64bd641d",
   "metadata": {},
   "outputs": [],
   "source": [
    "def collatz(x):                   #creating collatz function\n",
    "   \n",
    "    if x != 1:                   \n",
    "        if x%2!=0:                #check if x is odd number\n",
    "            print(int(x))         # print value\n",
    "            collatz(3*x+1)       \n",
    "        \n",
    "        else:\n",
    "            print(int(x))         \n",
    "            collatz(x/2)          \n",
    "  \n",
    "    else:\n",
    "        print(int(x));  "
   ]
  },
  {
   "cell_type": "code",
   "execution_count": 13,
   "id": "34142ba4",
   "metadata": {},
   "outputs": [
    {
     "name": "stdout",
     "output_type": "stream",
     "text": [
      "1\n"
     ]
    }
   ],
   "source": [
    "collatz(1)"
   ]
  },
  {
   "cell_type": "code",
   "execution_count": 14,
   "id": "f61babf9",
   "metadata": {},
   "outputs": [
    {
     "name": "stdout",
     "output_type": "stream",
     "text": [
      "10\n",
      "5\n",
      "16\n",
      "8\n",
      "4\n",
      "2\n",
      "1\n"
     ]
    }
   ],
   "source": [
    "collatz(10)"
   ]
  },
  {
   "cell_type": "markdown",
   "id": "37132aa8",
   "metadata": {},
   "source": [
    "Question 5\n",
    "\n",
    "Write a recursive method binary() that takes a non-negative integer n and prints the binary representation of integer n.\n",
    "\n",
    "            binary(0) 0 binary(1) 1 binary(3) 11 binary(9) 1001\n",
    "\n"
   ]
  },
  {
   "cell_type": "code",
   "execution_count": 15,
   "id": "67fd078a",
   "metadata": {},
   "outputs": [],
   "source": [
    "def binary(n):\n",
    "    \n",
    "    if n>0:                           #if n is greater than it will calculate binary value\n",
    "        return (n % 2 + 10*binary(int(n // 2)))\n",
    "       \n",
    "    else:\n",
    "         return 0"
   ]
  },
  {
   "cell_type": "code",
   "execution_count": 16,
   "id": "4e3a05d5",
   "metadata": {},
   "outputs": [
    {
     "data": {
      "text/plain": [
       "0"
      ]
     },
     "execution_count": 16,
     "metadata": {},
     "output_type": "execute_result"
    }
   ],
   "source": [
    "binary(0)"
   ]
  },
  {
   "cell_type": "code",
   "execution_count": 17,
   "id": "e60cfac7",
   "metadata": {},
   "outputs": [
    {
     "data": {
      "text/plain": [
       "1"
      ]
     },
     "execution_count": 17,
     "metadata": {},
     "output_type": "execute_result"
    }
   ],
   "source": [
    "binary(1)"
   ]
  },
  {
   "cell_type": "code",
   "execution_count": 18,
   "id": "40c99da8",
   "metadata": {},
   "outputs": [
    {
     "data": {
      "text/plain": [
       "11"
      ]
     },
     "execution_count": 18,
     "metadata": {},
     "output_type": "execute_result"
    }
   ],
   "source": [
    "binary(3)"
   ]
  },
  {
   "cell_type": "code",
   "execution_count": 19,
   "id": "81996807",
   "metadata": {},
   "outputs": [
    {
     "data": {
      "text/plain": [
       "1001"
      ]
     },
     "execution_count": 19,
     "metadata": {},
     "output_type": "execute_result"
    }
   ],
   "source": [
    "binary(9)"
   ]
  },
  {
   "cell_type": "code",
   "execution_count": 20,
   "id": "db012ddb",
   "metadata": {},
   "outputs": [
    {
     "data": {
      "text/plain": [
       "0"
      ]
     },
     "execution_count": 20,
     "metadata": {},
     "output_type": "execute_result"
    }
   ],
   "source": [
    "binary(-1)"
   ]
  },
  {
   "cell_type": "code",
   "execution_count": 21,
   "id": "641985b1",
   "metadata": {},
   "outputs": [
    {
     "data": {
      "text/plain": [
       "0"
      ]
     },
     "execution_count": 21,
     "metadata": {},
     "output_type": "execute_result"
    }
   ],
   "source": [
    "binary(-2)"
   ]
  },
  {
   "cell_type": "markdown",
   "id": "feac7806",
   "metadata": {},
   "source": [
    "Question 6\n",
    "\n",
    "Implement a class named HeadingParser that can be used to parse an HTML document, and retrieve and print all the headings in the document. You should implement your class as a subclass of HTMLParser, defined in Standard Library module html.parser. When fed a string containing HTML code, your class should print the headings, one per line and in the order in which they appear in the document. Each heading should be indented as follows: an h1 heading should have indentation 0, and h2 heading should have indentation 1, etc. Test your implementation using w3c.html.\n",
    "\n",
    "            infile = open('w3c.html') content = infile.read() infile.close() hp = HeadingParser() hp.feed(content) W3C Mission Principles\n",
    "\n"
   ]
  },
  {
   "cell_type": "code",
   "execution_count": 22,
   "id": "146086d6",
   "metadata": {},
   "outputs": [],
   "source": [
    "from html.parser import HTMLParser                               \n",
    "class HeadingParser(HTMLParser):                      \n",
    "    def __init__(self):                                                 \n",
    "        HTMLParser.__init__(self)                           \n",
    "        self.head =0                                                          \n",
    "        self.intend = \"\"\n",
    "    def handle_starttag(self, tag, attrs):              \n",
    "        if tag[:-1]=='h':\n",
    "            self.head = 'type'\n",
    "    def handle_data(self, data):                             \n",
    "        if self.head==\"type\":\n",
    "            print(self.intend+ data)                         \n",
    "            self.intend+= \"    \"\n",
    "            self.head=0   "
   ]
  },
  {
   "cell_type": "code",
   "execution_count": 23,
   "id": "eed0749a",
   "metadata": {},
   "outputs": [
    {
     "name": "stdout",
     "output_type": "stream",
     "text": [
      "W3C Mission\n",
      "    Principles\n"
     ]
    }
   ],
   "source": [
    "infile = open('w3c.html')\n",
    "content = infile.read()\n",
    "infile.close()\n",
    "hp = HeadingParser()\n",
    "hp.feed(content)"
   ]
  },
  {
   "cell_type": "markdown",
   "id": "236f5a6f",
   "metadata": {},
   "source": [
    "Question 7\n",
    "\n",
    "Implement recursive function webdir() that takes as input: a URL (as a string) and non-negative integers depth and indent. Your function should visit every web page reachable from the starting URL web page in depth clicks or less, and print each web page's URL. As shown below, indentation, specified by indent, should be used to indicate the depth of a URL.\n",
    "\n",
    "        webdir('http://reed.cs.depaul.edu/lperkovic/csc242/test1.html' , 2, 0) http://reed.cs.depaul.edu/lperkovic/csc242/test1.html http://reed.cs.depaul.edu/lperkovic/csc242/test2.html http://reed.cs.depaul.edu/lperkovic/csc242/test4.html http://reed.cs.depaul.edu/lperkovic/csc242/test3.html http://reed.cs.depaul.edu/lperkovic/csc242/test4.html\n",
    "\n"
   ]
  },
  {
   "cell_type": "code",
   "execution_count": 19,
   "id": "bb162314",
   "metadata": {},
   "outputs": [],
   "source": [
    "from html.parser import HTMLParser    \n",
    "from urllib.request import urlopen\n",
    "from urllib.parse import urljoin\n",
    "\n",
    "class collector(HTMLParser):\n",
    "    \n",
    "\n",
    "    def __init__(self, url):\n",
    "      \n",
    "        HTMLParser.__init__(self)\n",
    "        self.url = url\n",
    "        self.links = []\n",
    "\n",
    "\n",
    "    def append(self):\n",
    "        \n",
    "        return self.links\n",
    "\n",
    "\n",
    "    def handle_starttag(self, url_tag, attributes):\n",
    "        for i in attributes:\n",
    "            mylinks = urljoin(self.url, a[1])\n",
    "            if mylinks[:4] == 'http': \n",
    "                self.url_links.append(mylinks)\n",
    "                i = 0\n",
    "def webdir(url, depth, i):\n",
    "   \n",
    "\n",
    "    depth = depth - 1    \n",
    "    print(i*'  ', url)         \n",
    "\n",
    "    objective = urlopen(url).read().decode()\n",
    "    collection = urlcollector(url)\n",
    "    collection.feed(objective)\n",
    "    urls = collection.append() \n",
    " \n",
    "    links = urls\n",
    "    i= i + 4\n",
    "\n",
    "\n",
    "    for link in links:\n",
    "        if depth < 0 or i < 0:\n",
    "            return 1\n",
    "        else:\n",
    "            webdir(link, depth, i)"
   ]
  },
  {
   "cell_type": "code",
   "execution_count": 20,
   "id": "833471c6",
   "metadata": {},
   "outputs": [
    {
     "name": "stdout",
     "output_type": "stream",
     "text": [
      " http://reed.cs.depaul.edu/lperkovic/test1.html\n",
      "         http://reed.cs.depaul.edu/lperkovic/test2.html\n",
      "                 http://reed.cs.depaul.edu/lperkovic/test4.html\n",
      "         http://reed.cs.depaul.edu/lperkovic/test3.html\n",
      "                 http://reed.cs.depaul.edu/lperkovic/test4.html\n"
     ]
    }
   ],
   "source": [
    "webdir('http://reed.cs.depaul.edu/lperkovic/test1.html', 2, 0)"
   ]
  },
  {
   "cell_type": "markdown",
   "id": "8827f033",
   "metadata": {},
   "source": [
    "Question 8\n",
    "Write SQL queries on the below database table that return:\n",
    "\n",
    "a) All the temperature data.\n",
    "\n",
    "b) All the cities, but without repetition.\n",
    "\n",
    "c) All the records for India.\n",
    "\n",
    "d) All the Fall records\n",
    "\n",
    "e) The city, country, and season for which the average rainfall is between 200 and 400 millimeters.\n",
    "\n",
    "f) The city and country for which the average Fall temperature is above 20 degrees, in increasing temperature order.\n",
    "\n",
    "g) The total annual rainfall for Cairo.\n",
    "\n",
    "h) The total rainfall for each season.\n"
   ]
  },
  {
   "cell_type": "code",
   "execution_count": 33,
   "id": "528eb8c7",
   "metadata": {},
   "outputs": [],
   "source": [
    "import sqlite3\n",
    "con = sqlite3.connect('database_db')\n",
    "cur = con.cursor()\n",
    "cur.execute(\"CREATE TABLE database_d (City text, Country text, Season text, Temperature dec, Rainfall dec)\")\n",
    "cur.execute(\"INSERT INTO database_d VALUES ('Mumbai', 'India', 'Winter', 24.8, 5.9)\")\n",
    "cur.execute(\"INSERT INTO database_d VALUES ('Mumbai', 'India', 'Spring', 28.4, 16.2)\")\n",
    "cur.execute(\"INSERT INTO database_d VALUES ('Mumbai', 'India', 'Summer', 27.9, 1549.4)\")\n",
    "cur.execute(\"INSERT INTO database_d VALUES ('Mumbai', 'India', 'Fall', 27.6, 346.0)\")\n",
    "cur.execute(\"INSERT INTO database_d VALUES ('London', 'United Kingdom', 'Winter', 4.2, 207.7)\")\n",
    "cur.execute(\"INSERT INTO database_d VALUES ('London', 'United Kingdom', 'Spring', 8.3, 169.6)\")\n",
    "cur.execute(\"INSERT INTO database_d VALUES ('London', 'United Kingdom', 'Summer', 15.7, 157.0)\")\n",
    "cur.execute(\"INSERT INTO database_d VALUES ('London', 'United Kingdom', 'Fall', 10.4, 218.5)\")\n",
    "cur.execute(\"INSERT INTO database_d VALUES ('Cairo', 'Egypt', 'Winter', 13.6, 16.5)\")\n",
    "cur.execute(\"INSERT INTO database_d VALUES ('Cairo', 'Egypt', 'Spring', 20.7, 6.5)\")\n",
    "cur.execute(\"INSERT INTO database_d VALUES ('Cairo', 'Egypt', 'Summer', 27.7, 0.1)\")\n",
    "cur.execute(\"INSERT INTO database_d VALUES ('Cairo', 'Egypt', 'Fall', 22.2, 4.5)\")\n",
    "con.commit()\n",
    "con.close()"
   ]
  },
  {
   "cell_type": "code",
   "execution_count": 34,
   "id": "dda05ef7",
   "metadata": {},
   "outputs": [
    {
     "name": "stdout",
     "output_type": "stream",
     "text": [
      "(24.8,)\n",
      "(28.4,)\n",
      "(27.9,)\n",
      "(27.6,)\n",
      "(4.2,)\n",
      "(8.3,)\n",
      "(15.7,)\n",
      "(10.4,)\n",
      "(13.6,)\n",
      "(20.7,)\n",
      "(27.7,)\n",
      "(22.2,)\n",
      "('Mumbai',)\n",
      "('London',)\n",
      "('Cairo',)\n",
      "('Mumbai', 'India', 'Fall', 27.6, 346)\n",
      "('London', 'United Kingdom', 'Fall', 10.4, 218.5)\n",
      "('Cairo', 'Egypt', 'Fall', 22.2, 4.5)\n",
      "('Mumbai', 'India', 'Winter', 24.8, 5.9)\n",
      "('Mumbai', 'India', 'Spring', 28.4, 16.2)\n",
      "('Mumbai', 'India', 'Summer', 27.9, 1549.4)\n",
      "('Mumbai', 'India', 'Fall', 27.6, 346)\n",
      "('Mumbai', 'India')\n",
      "('Cairo', 'Egypt')\n",
      "('Mumbai', 'India', 'Fall')\n",
      "('London', 'United Kingdom', 'Winter')\n",
      "('London', 'United Kingdom', 'Fall')\n",
      "[(27.6,)]\n",
      "(569.0, 'Fall')\n",
      "(192.29999999999998, 'Spring')\n",
      "(1706.5, 'Summer')\n",
      "(230.1, 'Winter')\n"
     ]
    }
   ],
   "source": [
    "import sqlite3\n",
    "con = sqlite3.connect('database_db')\n",
    "cur = con.cursor()\n",
    "cur.execute('SELECT Temperature FROM database_d ')\n",
    "for record in cur:\n",
    "    print(record)\n",
    "cur.execute('SELECT DISTINCT City FROM database_d ')\n",
    "for record in cur:\n",
    "    print(record)\n",
    "cur.execute('SELECT * FROM database_d  where Season=\"Fall\"')\n",
    "for record in cur:\n",
    "    print(record)\n",
    "cur.execute('SELECT * FROM database_d  where Country=\"India\"')\n",
    "for record in cur:\n",
    "    print(record)\n",
    "cur.execute('SELECT City,Country FROM database_d  where (Season =\"Fall\") AND (temperature>20) ORDER BY Temperature DESC')\n",
    "for record in cur:\n",
    "    print(record)\n",
    "cur.execute('SELECT City,Country,Season FROM database_d  where (rainfall>200) AND (rainfall<400)')\n",
    "for record in cur:\n",
    "    print(record)\n",
    "cur.execute('SELECT SUM(Rainfall) FROM database_d  where City=\"Cairo\"')\n",
    "Annual_rainfall=cur.fetchall()\n",
    "print(Annual_rainfall)\n",
    "cur.execute('SELECT SUM(Rainfall),Season FROM database_d  GROUP BY Season')\n",
    "for record in cur:\n",
    "    print(record)"
   ]
  },
  {
   "cell_type": "markdown",
   "id": "1e70b754",
   "metadata": {},
   "source": [
    "Question 9\n",
    "\n",
    "Suppose list words is defined as follows:\n",
    "\n",
    "            words = ['The', 'quick', 'brown', 'fox', 'jumps', 'over', 'the', 'lazy', 'dog']\n",
    "\n",
    "Write list comprehension expressions that use list words and generate the following lists:\n",
    "\n",
    "a) ['THE', 'QUICK', 'BROWN', 'FOX', 'JUMPS', 'OVER', 'THE', 'LAZY', 'DOG']\n",
    "\n",
    "b) ['the', 'quick', 'brown', 'fox', 'jumps', 'over', 'the', 'lazy', 'dog']\n",
    "\n",
    "c) [3, 5, 5, 3, 5, 4, 3, 4, 3] (the list of lengths of words in list words).\n",
    "\n",
    "d) [['THE', 'the', 3], ['QUICK', 'quick', 5], ['BROWN', 'brown', 5], ['FOX', 'fox', 3], ['JUMPS', 'jumps', 5], ['OVER', 'over', 4], ['THE', 'the', 3], ['LAZY', 'lazy', 4], ['DOG', 'dog', 3]]\n",
    "\n",
    "(the list containing a list for every word of list words, where each list contains the word in uppercase and lowercase and the length of the word.)\n",
    "\n",
    "e) ['The', 'quick', 'brown', 'fox', 'jumps', 'over', 'the', 'lazy', 'dog'] (the list of words in list words containing 4 or more characters.)\n"
   ]
  },
  {
   "cell_type": "code",
   "execution_count": 35,
   "id": "35a14047",
   "metadata": {},
   "outputs": [
    {
     "data": {
      "text/plain": [
       "['THE', 'QUICK', 'BROWN', 'FOX', 'JUMPS', 'OVER', 'THE', 'LAZY', 'DOG']"
      ]
     },
     "execution_count": 35,
     "metadata": {},
     "output_type": "execute_result"
    }
   ],
   "source": [
    "words = ['The', 'quick', 'brown', 'fox', 'jumps', 'over', 'the', 'lazy', 'dog']\n",
    "[a.upper() for a in words]"
   ]
  },
  {
   "cell_type": "code",
   "execution_count": 36,
   "id": "7ca01ee9",
   "metadata": {},
   "outputs": [
    {
     "data": {
      "text/plain": [
       "['the', 'quick', 'brown', 'fox', 'jumps', 'over', 'the', 'lazy', 'dog']"
      ]
     },
     "execution_count": 36,
     "metadata": {},
     "output_type": "execute_result"
    }
   ],
   "source": [
    "[a.lower() for a in words]"
   ]
  },
  {
   "cell_type": "code",
   "execution_count": 37,
   "id": "e5cc9e75",
   "metadata": {},
   "outputs": [
    {
     "data": {
      "text/plain": [
       "[3, 5, 5, 3, 5, 4, 3, 4, 3]"
      ]
     },
     "execution_count": 37,
     "metadata": {},
     "output_type": "execute_result"
    }
   ],
   "source": [
    "[len(a) for a in words]"
   ]
  },
  {
   "cell_type": "code",
   "execution_count": 38,
   "id": "d7510adf",
   "metadata": {},
   "outputs": [
    {
     "data": {
      "text/plain": [
       "[['THE', 'the', 3],\n",
       " ['QUICK', 'quick', 5],\n",
       " ['BROWN', 'brown', 5],\n",
       " ['FOX', 'fox', 3],\n",
       " ['JUMPS', 'jumps', 5],\n",
       " ['OVER', 'over', 4],\n",
       " ['THE', 'the', 3],\n",
       " ['LAZY', 'lazy', 4],\n",
       " ['DOG', 'dog', 3]]"
      ]
     },
     "execution_count": 38,
     "metadata": {},
     "output_type": "execute_result"
    }
   ],
   "source": [
    "[[a.upper(),a.lower(),len(a)] for a in words]"
   ]
  },
  {
   "cell_type": "code",
   "execution_count": 39,
   "id": "02b9ca06",
   "metadata": {},
   "outputs": [
    {
     "data": {
      "text/plain": [
       "['quick', 'brown', 'jumps', 'over', 'lazy']"
      ]
     },
     "execution_count": 39,
     "metadata": {},
     "output_type": "execute_result"
    }
   ],
   "source": [
    "[a for a in words if len(a) >= 4]"
   ]
  }
 ],
 "metadata": {
  "kernelspec": {
   "display_name": "Python 3 (ipykernel)",
   "language": "python",
   "name": "python3"
  },
  "language_info": {
   "codemirror_mode": {
    "name": "ipython",
    "version": 3
   },
   "file_extension": ".py",
   "mimetype": "text/x-python",
   "name": "python",
   "nbconvert_exporter": "python",
   "pygments_lexer": "ipython3",
   "version": "3.9.12"
  }
 },
 "nbformat": 4,
 "nbformat_minor": 5
}
